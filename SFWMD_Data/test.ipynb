{
 "cells": [
  {
   "cell_type": "code",
   "execution_count": null,
   "id": "638a09ab",
   "metadata": {},
   "outputs": [],
   "source": [
    "# import packages\n",
    "import pandas as pd\n",
    "import numpy as np\n",
    "from os import path"
   ]
  },
  {
   "cell_type": "code",
   "execution_count": null,
   "id": "fba5d9e8",
   "metadata": {},
   "outputs": [],
   "source": [
    "# import all csv files\n",
    "file = ('Data/L28I.csv')\n",
    "L28I_df = pd.read_csv(file)\n",
    "L28I_df.head()"
   ]
  },
  {
   "cell_type": "code",
   "execution_count": null,
   "id": "0d3ca96d",
   "metadata": {},
   "outputs": [],
   "source": [
    "L28I_df.columns"
   ]
  },
  {
   "cell_type": "code",
   "execution_count": null,
   "id": "38b1e5e9",
   "metadata": {},
   "outputs": [],
   "source": [
    "df = L28I_df[['Sample ID', 'Station ID', 'Collection_Date', 'Test Name', 'Value', 'Units', 'Source']]"
   ]
  },
  {
   "cell_type": "code",
   "execution_count": null,
   "id": "c574210e",
   "metadata": {},
   "outputs": [],
   "source": [
    "samples = df['Sample ID'].unique()\n",
    "samples"
   ]
  },
  {
   "cell_type": "code",
   "execution_count": null,
   "id": "34064aef",
   "metadata": {},
   "outputs": [],
   "source": []
  },
  {
   "cell_type": "code",
   "execution_count": null,
   "id": "6a553ab9",
   "metadata": {},
   "outputs": [],
   "source": [
    "## set the sample ID as the index and then concat with the tests that you want       "
   ]
  },
  {
   "cell_type": "code",
   "execution_count": null,
   "id": "5052ad48",
   "metadata": {},
   "outputs": [],
   "source": [
    "test_lst"
   ]
  },
  {
   "cell_type": "code",
   "execution_count": null,
   "id": "aa905cfa",
   "metadata": {},
   "outputs": [],
   "source": [
    "temp = []\n",
    "date = []\n",
    "station = []\n",
    "unit = []\n",
    "phosphate = []\n",
    "\n",
    "i = 0\n",
    "\n",
    "while i < len(df):\n",
    "    if df['Test Name'][i] == 'Temperature':\n",
    "        station.append(df['Station ID'][i])\n",
    "        date.append(df['Collection_Date'][i])\n",
    "        temp.append(df['Value'][i])\n",
    "        unit.append(df['Units'][i])\n",
    "\n",
    "    i = i + 1"
   ]
  },
  {
   "cell_type": "code",
   "execution_count": null,
   "id": "31de5e73",
   "metadata": {},
   "outputs": [],
   "source": [
    "temp_df = pd.DataFrame(station, columns = ['station'])\n",
    "temp_df['date'] = date\n",
    "temp_df['temp'] = temp\n",
    "temp_df['unit'] = unit"
   ]
  },
  {
   "cell_type": "code",
   "execution_count": null,
   "id": "b4a08f96",
   "metadata": {},
   "outputs": [],
   "source": [
    "temp_df"
   ]
  },
  {
   "cell_type": "code",
   "execution_count": null,
   "id": "952a2748",
   "metadata": {},
   "outputs": [],
   "source": []
  }
 ],
 "metadata": {
  "kernelspec": {
   "display_name": "Python 3 (ipykernel)",
   "language": "python",
   "name": "python3"
  },
  "language_info": {
   "codemirror_mode": {
    "name": "ipython",
    "version": 3
   },
   "file_extension": ".py",
   "mimetype": "text/x-python",
   "name": "python",
   "nbconvert_exporter": "python",
   "pygments_lexer": "ipython3",
   "version": "3.9.7"
  }
 },
 "nbformat": 4,
 "nbformat_minor": 5
}
